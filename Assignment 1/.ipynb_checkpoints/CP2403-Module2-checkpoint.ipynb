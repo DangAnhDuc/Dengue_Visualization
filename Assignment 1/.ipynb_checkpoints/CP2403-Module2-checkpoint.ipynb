{
 "cells": [
  {
   "cell_type": "markdown",
   "metadata": {},
   "source": [
    "# First Name: Anh Duc\n",
    "# Last Name: Dang"
   ]
  },
  {
   "cell_type": "code",
   "execution_count": null,
   "metadata": {},
   "outputs": [],
   "source": [
    "import pandas as pd\n",
    "import numpy as np"
   ]
  },
  {
   "cell_type": "code",
   "execution_count": null,
   "metadata": {},
   "outputs": [],
   "source": [
    "nesarc = pd.read_csv('nesarc.csv', low_memory=False)\n",
    "pd.set_option('display.float_format', lambda x:'%f'%x)"
   ]
  },
  {
   "cell_type": "markdown",
   "metadata": {},
   "source": [
    "# Coding valid data"
   ]
  },
  {
   "cell_type": "code",
   "execution_count": null,
   "metadata": {},
   "outputs": [],
   "source": [
    "nesarc['CHECK321'] = pd.to_numeric(nesarc['CHECK321'], errors='coerce') #convert smoking status to numeric\n",
    "nesarc['CHECK321'].head(25) #print the first 25"
   ]
  },
  {
   "cell_type": "code",
   "execution_count": null,
   "metadata": {},
   "outputs": [],
   "source": [
    "nesarc['CHECK321'].fillna(11, inplace=True) #fill in nan value with 11\n",
    "nesarc['CHECK321'].head(25)"
   ]
  },
  {
   "cell_type": "markdown",
   "metadata": {},
   "source": [
    "# Managing missing data"
   ]
  },
  {
   "cell_type": "code",
   "execution_count": null,
   "metadata": {},
   "outputs": [],
   "source": [
    "nesarc['S3AQ3B1'] = pd.to_numeric(nesarc['S3AQ3B1'],errors='coerce') #convert variable to numeric\n",
    "nesarc['S3AQ3B1'].head()\n",
    "#len(nesarc)"
   ]
  },
  {
   "cell_type": "code",
   "execution_count": null,
   "metadata": {},
   "outputs": [],
   "source": [
    "#subset data to young adults age 18 to 25 who have smoked in the past 12 months\n",
    "sub1=nesarc[(nesarc['AGE']>=18) & (nesarc['AGE']<=25) & (nesarc['CHECK321']==1)]\n",
    "sub1.head()"
   ]
  },
  {
   "cell_type": "code",
   "execution_count": null,
   "metadata": {},
   "outputs": [],
   "source": [
    "sub2 = sub1.copy()\n",
    "sub2.head()\n",
    "len(sub2)"
   ]
  },
  {
   "cell_type": "code",
   "execution_count": null,
   "metadata": {},
   "outputs": [],
   "source": [
    "c_cig_feq = sub2['S3AQ3B1'].value_counts(sort=False, dropna=False)\n",
    "print ('counts for original S3AQ3B1')\n",
    "print(c_cig_feq)"
   ]
  },
  {
   "cell_type": "code",
   "execution_count": null,
   "metadata": {},
   "outputs": [],
   "source": [
    "sub2['S3AQ3B1']=sub2['S3AQ3B1'].replace(9, np.nan)"
   ]
  },
  {
   "cell_type": "code",
   "execution_count": null,
   "metadata": {},
   "outputs": [],
   "source": [
    "c_cig_feq_nan = sub2['S3AQ3B1'].value_counts(sort=False)\n",
    "print ('counts for S3AQ3B1 with 9 set to NAN and number of missing requested')\n",
    "print(c_cig_feq_nan)"
   ]
  },
  {
   "cell_type": "code",
   "execution_count": null,
   "metadata": {},
   "outputs": [],
   "source": [
    "c_cig_quan = sub2['S3AQ3C1'].value_counts(sort=False,dropna=False)\n",
    "print ('counts for S3AQ3C1') \n",
    "print(c_cig_quan)"
   ]
  },
  {
   "cell_type": "code",
   "execution_count": null,
   "metadata": {},
   "outputs": [],
   "source": [
    "sub2['S3AQ3C1']=sub2['S3AQ3C1'].replace(99, np.nan)\n",
    "c_cig_quan_nan = sub2['S3AQ3C1'].value_counts(sort=False)\n",
    "print ('counts for S3AQ3C1 with 99 set to NAN')\n",
    "print(c_cig_quan_nan)"
   ]
  },
  {
   "cell_type": "markdown",
   "metadata": {},
   "source": [
    "# Recoding values"
   ]
  },
  {
   "cell_type": "code",
   "execution_count": null,
   "metadata": {
    "scrolled": true
   },
   "outputs": [],
   "source": [
    "c_cig_feq = sub2['S3AQ3B1'].value_counts(sort=False) #get count in each category\n",
    "print ('counts for S3AQ3B1')\n",
    "print(c_cig_feq)"
   ]
  },
  {
   "cell_type": "code",
   "execution_count": null,
   "metadata": {},
   "outputs": [],
   "source": [
    "recode1 = {1: 6, 2: 5, 3: 4, 4: 3, 5: 2, 6: 1} #recoding so that higher numbers mean more smoking frequency\n",
    "sub2['USFREQ'] = sub2['S3AQ3B1'].map(recode1)\n",
    "\n",
    "recode_cig_feq = sub2['USFREQ'].value_counts(sort=False) #get count in each category\n",
    "print ('counts for USFREQ')\n",
    "print(recode_cig_feq)"
   ]
  },
  {
   "cell_type": "code",
   "execution_count": null,
   "metadata": {},
   "outputs": [],
   "source": [
    "#recoding values for S3AQ3B1 into a new variable, USFREQMO\n",
    "recode2 = {1:30, 2:22, 3:14, 4:5, 5:2.5, 6:1} #recode to quantitative variable\n",
    "sub2['USFREQMO']= sub2['S3AQ3B1'].map(recode2)\n",
    "\n",
    "recode_cig_feq_m = sub2['USFREQMO'].value_counts(sort=False) #get count in each category\n",
    "print ('counts for USFREQMO')\n",
    "print(recode_cig_feq_m)"
   ]
  },
  {
   "cell_type": "markdown",
   "metadata": {},
   "source": [
    "# Creating secondary variable"
   ]
  },
  {
   "cell_type": "code",
   "execution_count": null,
   "metadata": {},
   "outputs": [],
   "source": [
    "#secondary variable multiplying the number of days smoked/month and the approx number of cig smoked/day\n",
    "sub2['NUMCIGMO_EST']=sub2['USFREQMO'] * sub2['S3AQ3C1'] #get the number of cigarettes smoked per month\n",
    "sub2['NUMCIGMO_EST'].head()"
   ]
  },
  {
   "cell_type": "markdown",
   "metadata": {},
   "source": [
    "# Grouping values within individual variables"
   ]
  },
  {
   "cell_type": "code",
   "execution_count": null,
   "metadata": {},
   "outputs": [],
   "source": [
    "#examining frequency distributions for age\n",
    "c_age = sub2['AGE'].value_counts(sort=False)\n",
    "print ('counts for AGE')\n",
    "print(c_age)"
   ]
  },
  {
   "cell_type": "code",
   "execution_count": null,
   "metadata": {},
   "outputs": [],
   "source": [
    "p_age = sub2['AGE'].value_counts(sort=False, normalize=True)\n",
    "print ('percentages for AGE')\n",
    "print (p_age)"
   ]
  },
  {
   "cell_type": "code",
   "execution_count": null,
   "metadata": {},
   "outputs": [],
   "source": [
    "# categorize quantitative variable based on customized splits using cut function\n",
    "# splits into 3 groups (18-20, 21-22, 23-25) - remember that Python starts counting from 0, not 1\n",
    "sub2['AGEGROUP3'] = pd.cut(sub2.AGE, [17, 20, 22, 25])\n",
    "c_age_group = sub2['AGEGROUP3'].value_counts(sort=False, dropna=True)\n",
    "print('counts for AGEGROUP3')\n",
    "print(c_age_group)\n",
    "\n",
    "print('percentages for AGEGROUP3')\n",
    "p_age_group = sub2['AGEGROUP3'].value_counts(sort=False, normalize=True)\n",
    "print(p_age_group)"
   ]
  },
  {
   "cell_type": "code",
   "execution_count": null,
   "metadata": {},
   "outputs": [],
   "source": [
    "#crosstabs evaluating which ages were put into which AGEGROUP3\n",
    "print (pd.crosstab(sub2['AGEGROUP3'], sub2['AGE']))"
   ]
  },
  {
   "cell_type": "code",
   "execution_count": null,
   "metadata": {},
   "outputs": [],
   "source": []
  }
 ],
 "metadata": {
  "kernelspec": {
   "display_name": "Python 3",
   "language": "python",
   "name": "python3"
  },
  "language_info": {
   "codemirror_mode": {
    "name": "ipython",
    "version": 3
   },
   "file_extension": ".py",
   "mimetype": "text/x-python",
   "name": "python",
   "nbconvert_exporter": "python",
   "pygments_lexer": "ipython3",
   "version": "3.6.4"
  }
 },
 "nbformat": 4,
 "nbformat_minor": 2
}
